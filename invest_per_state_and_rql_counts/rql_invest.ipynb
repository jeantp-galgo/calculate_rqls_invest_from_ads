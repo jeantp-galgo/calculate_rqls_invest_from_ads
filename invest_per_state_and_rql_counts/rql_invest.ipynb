{
 "cells": [
  {
   "cell_type": "markdown",
   "metadata": {},
   "source": [
    "# Inversiones por estado\n",
    "\n",
    "\n",
    "Este notebook tiene como finalidad poder sacar el total de las inversiones realizadas por estado\n",
    "\n",
    "## Paso a paso\n",
    "\n",
    "* **Clasificar los anuncios por marca**: Con esto obtendremos de igual manera, a qué marca pertenece el anuncio según la plataforma\n",
    "* **Costos totales por plataformas**: Se busca tener el total de costos agrupando por Marca y Region. Este archivo se genera dentro del archivo **invest_per_state/rql_data.ipynb** según un rango de fechas dado\n",
    "* RQLs generados: Esta parte busca poder \n",
    "* **Combinar datos de Geolocalización entre plataformas**: Con el fin de poder hacer cruces entre plataformas de manera mas sencilla, se usa una tabla que tiene información de nombres de regiones / estados con sus equivalentes\n",
    "* **Costos totales entre Meta y GAds por estados**: Acá se saca el total de inversión por estados entre las plataformas"
   ]
  },
  {
   "cell_type": "code",
   "execution_count": 1,
   "metadata": {},
   "outputs": [],
   "source": [
    "import sys\n",
    "sys.path.append('../')\n",
    "import pandas as pd\n",
    "from utils.classify_ads import *\n",
    "from utils.df_utils import set_week_and_year"
   ]
  },
  {
   "cell_type": "markdown",
   "metadata": {},
   "source": [
    "## Clasificar los anuncios por marca"
   ]
  },
  {
   "cell_type": "code",
   "execution_count": 2,
   "metadata": {},
   "outputs": [],
   "source": [
    "# Lectura del archivo de Meta\n",
    "df_meta_ads = pd.read_csv(r\"C:\\Users\\JTRUJILLO\\Documents\\Galgo\\Scripts\\Análisis\\rql_inversiones\\BD Ads\\Abril\\14042025\\MX BD Ads saturación mensual - Meta.csv\")\n",
    "\n",
    "# Aplicar la función a la columna Ad name\n",
    "df_meta_ads['Marca'] = df_meta_ads['Ad name'].apply(classify_ads)\n",
    "\n",
    "# Agregar columnas con el número de semana y año\n",
    "df_meta_ads = set_week_and_year(df_meta_ads)"
   ]
  },
  {
   "cell_type": "code",
   "execution_count": 3,
   "metadata": {},
   "outputs": [],
   "source": [
    "# Lectura del archivo de Google Ads\n",
    "df_google_ads = pd.read_csv(r\"C:\\Users\\JTRUJILLO\\Documents\\Galgo\\Scripts\\Análisis\\rql_inversiones\\BD Ads\\Abril\\14042025\\MX BD Ads saturación mensual - GAds.csv\")\n",
    "\n",
    "# Aplicar la función a la columna Ad name\n",
    "df_google_ads['Marca'] = df_google_ads['Ad group name'].apply(classify_ads)\n",
    "\n",
    "# Agregar columnas con el número de semana y año\n",
    "df_google_ads = set_week_and_year(df_google_ads)"
   ]
  },
  {
   "cell_type": "markdown",
   "metadata": {},
   "source": [
    "## Costo totales por plataformas"
   ]
  },
  {
   "cell_type": "markdown",
   "metadata": {},
   "source": [
    "Acá se busca sacar el costo total por Marca, región y semana"
   ]
  },
  {
   "cell_type": "markdown",
   "metadata": {},
   "source": [
    "#### Meta"
   ]
  },
  {
   "cell_type": "code",
   "execution_count": 4,
   "metadata": {},
   "outputs": [],
   "source": [
    "df_meta_invest_per_state = df_meta_ads.groupby(['Marca', 'Region', 'Semana', 'Año'])['Cost'].sum().reset_index()"
   ]
  },
  {
   "cell_type": "code",
   "execution_count": null,
   "metadata": {},
   "outputs": [],
   "source": [
    "df_meta_invest_per_state"
   ]
  },
  {
   "cell_type": "markdown",
   "metadata": {},
   "source": [
    "### Google Ads"
   ]
  },
  {
   "cell_type": "code",
   "execution_count": 6,
   "metadata": {},
   "outputs": [],
   "source": [
    "df_google_ads_invest_per_state = df_google_ads.groupby(['Marca', 'Region', 'Semana', 'Año'])['Cost'].sum().reset_index()"
   ]
  },
  {
   "cell_type": "code",
   "execution_count": null,
   "metadata": {},
   "outputs": [],
   "source": [
    "df_google_ads_invest_per_state"
   ]
  },
  {
   "cell_type": "markdown",
   "metadata": {},
   "source": [
    "## RQLs generados"
   ]
  },
  {
   "cell_type": "markdown",
   "metadata": {},
   "source": [
    "Costos totales, incluye PureBrand y referidos"
   ]
  },
  {
   "cell_type": "code",
   "execution_count": null,
   "metadata": {},
   "outputs": [],
   "source": [
    "rqls_por_marca = pd.read_csv(r\"C:\\Users\\JTRUJILLO\\Documents\\Galgo\\Scripts\\Análisis\\rql_inversiones\\invest_per_state\\outputs\\RQLs Amplitude\\20250414-rql_resumen_per_brand.csv\")\n",
    "\n",
    "# Semana a consultar\n",
    "# rqls_por_marca.drop(columns=[\"state\", \"day\"], inplace=True)\n",
    "# rqls_por_marca = rqls_por_marca.groupby(['brand', 'Semana', 'Año'])['rql'].sum().reset_index()\n",
    "rqls_por_marca"
   ]
  },
  {
   "cell_type": "code",
   "execution_count": null,
   "metadata": {},
   "outputs": [],
   "source": [
    "total_rqls = rqls_por_marca[\"rql\"].sum()\n",
    "print(f\"Total de RQLs para la semana: {total_rqls}\")"
   ]
  },
  {
   "cell_type": "code",
   "execution_count": 13,
   "metadata": {},
   "outputs": [],
   "source": [
    "week = 15"
   ]
  },
  {
   "cell_type": "markdown",
   "metadata": {},
   "source": [
    "Selección de semana a consultar en cada una de las plataformas y archivo de RQLs (aunque ya viene en la semana a consultar)"
   ]
  },
  {
   "cell_type": "code",
   "execution_count": 14,
   "metadata": {},
   "outputs": [],
   "source": [
    "df_meta_invest_per_state_week = df_meta_invest_per_state[df_meta_invest_per_state[\"Semana\"] == week]\n",
    "df_google_ads_invest_per_state_week = df_google_ads_invest_per_state[df_google_ads_invest_per_state[\"Semana\"] == week]\n",
    "rqls_por_marca_week = rqls_por_marca[rqls_por_marca[\"Semana\"] == week]"
   ]
  },
  {
   "cell_type": "code",
   "execution_count": null,
   "metadata": {},
   "outputs": [],
   "source": [
    "df_google_ads_invest_per_state_week"
   ]
  },
  {
   "cell_type": "markdown",
   "metadata": {},
   "source": [
    "## Combinar datos de Geolocalización entre plataformas"
   ]
  },
  {
   "cell_type": "markdown",
   "metadata": {},
   "source": [
    "Esto sirve para poder hacer la combinación de datos entre las plataformas ya que cada plataforma maneja nombres distintos entre regiones/estados. Este archivo tiene el \"equivalente\" de cada nombre entre plataforma con uno base \"amplitude_ips\""
   ]
  },
  {
   "cell_type": "code",
   "execution_count": 16,
   "metadata": {},
   "outputs": [],
   "source": [
    "df_state_per_media = pd.read_csv(r\"C:\\Users\\JTRUJILLO\\Documents\\Galgo\\Scripts\\Análisis\\rql_inversiones\\Geolocalización\\MX equivalencias geo regiones - Equivalencias_Medios.csv\")"
   ]
  },
  {
   "cell_type": "code",
   "execution_count": null,
   "metadata": {},
   "outputs": [],
   "source": [
    "df_state_per_media.head(2)"
   ]
  },
  {
   "cell_type": "markdown",
   "metadata": {},
   "source": [
    "### Combinar con plataformas"
   ]
  },
  {
   "cell_type": "markdown",
   "metadata": {},
   "source": [
    "#### Meta"
   ]
  },
  {
   "cell_type": "code",
   "execution_count": 18,
   "metadata": {},
   "outputs": [],
   "source": [
    "df_rql_per_state_and_brand_merged_meta = pd.merge(df_meta_invest_per_state_week, df_state_per_media[[\"Amplitude_ips\", \"Meta\"]], \n",
    "                                             left_on=\"Region\", \n",
    "                                             right_on=\"Meta\", \n",
    "                                             how = \"left\")"
   ]
  },
  {
   "cell_type": "markdown",
   "metadata": {},
   "source": [
    "#### GAds"
   ]
  },
  {
   "cell_type": "code",
   "execution_count": 19,
   "metadata": {},
   "outputs": [],
   "source": [
    "df_rql_per_state_and_brand_merged_gads = pd.merge(df_google_ads_invest_per_state_week, df_state_per_media[[\"Amplitude_ips\", \"GAds\"]], \n",
    "                                             left_on=\"Region\", \n",
    "                                             right_on=\"GAds\", \n",
    "                                             how = \"left\")"
   ]
  },
  {
   "cell_type": "code",
   "execution_count": null,
   "metadata": {},
   "outputs": [],
   "source": [
    "df_rql_per_state_and_brand_merged_gads"
   ]
  },
  {
   "cell_type": "code",
   "execution_count": 21,
   "metadata": {},
   "outputs": [],
   "source": [
    "asd = df_rql_per_state_and_brand_merged_gads[df_rql_per_state_and_brand_merged_gads[\"Semana\"] == 15]"
   ]
  },
  {
   "cell_type": "markdown",
   "metadata": {},
   "source": [
    "Para diferenciar los costos al hacer el merge"
   ]
  },
  {
   "cell_type": "code",
   "execution_count": 23,
   "metadata": {},
   "outputs": [],
   "source": [
    "df_rql_per_state_and_brand_merged_meta.rename(columns={\"Cost\": \"cost_meta\"}, inplace=True)\n",
    "df_rql_per_state_and_brand_merged_gads.rename(columns={\"Cost\": \"cost_gads\"}, inplace=True)"
   ]
  },
  {
   "cell_type": "code",
   "execution_count": 24,
   "metadata": {},
   "outputs": [],
   "source": [
    "def add_totals(valores):\n",
    "    total_row = pd.Series(valores)\n",
    "    return pd.DataFrame([total_row])"
   ]
  },
  {
   "cell_type": "markdown",
   "metadata": {},
   "source": [
    "### Costos entre GAds y Meta"
   ]
  },
  {
   "cell_type": "markdown",
   "metadata": {},
   "source": [
    "Se unen ambos DF para ver como han sido los costos por estados"
   ]
  },
  {
   "cell_type": "code",
   "execution_count": null,
   "metadata": {},
   "outputs": [],
   "source": [
    "df_merged = pd.merge(df_rql_per_state_and_brand_merged_meta[[\"Marca\", \"Amplitude_ips\", \"cost_meta\"]], \n",
    "                     df_rql_per_state_and_brand_merged_gads[[\"Marca\", \"Amplitude_ips\", \"cost_gads\"]], \n",
    "                     on = [\"Marca\", \"Amplitude_ips\"], \n",
    "                     how = \"outer\") # Ya que puede que en Meta no hayan estados (amplitude_ips) que GAds si contenga\n",
    "df_merged[\"cost_meta\"].fillna(0, inplace=True)\n",
    "df_merged[\"cost_gads\"].fillna(0, inplace=True)\n",
    "df_merged"
   ]
  },
  {
   "cell_type": "markdown",
   "metadata": {},
   "source": [
    "## Inversión total entre Meta y GAds por estados"
   ]
  },
  {
   "cell_type": "markdown",
   "metadata": {},
   "source": [
    "#### Por estados"
   ]
  },
  {
   "cell_type": "code",
   "execution_count": 27,
   "metadata": {},
   "outputs": [],
   "source": [
    "per_state = df_merged.groupby([\"Amplitude_ips\"])[[\"cost_meta\", \"cost_gads\"]].sum().reset_index()\n",
    "costo_total_meta = int(df_merged[\"cost_meta\"].sum())\n",
    "costo_total_gads = int(df_merged[\"cost_gads\"].sum())\n",
    "total_cost = int(costo_total_meta + costo_total_gads)\n",
    "\n",
    "df_total = add_totals({\"Amplitude_ips\": \"Total\", \"cost_meta\": costo_total_meta, \"cost_gads\": costo_total_gads})\n",
    "per_state_with_totals = pd.concat([per_state, df_total]) \n",
    "\n",
    "per_state_with_totals[\"cost_meta\"] = per_state_with_totals[\"cost_meta\"].astype(int) \n",
    "per_state_with_totals[\"cost_gads\"] = per_state_with_totals[\"cost_gads\"].astype(int) \n",
    "\n",
    "\n",
    "# display(per_state_with_totals)\n",
    "\n",
    "\n",
    "# print(f\"Costo total Meta: {costo_total_meta:,.2f} MXN\")\n",
    "# print(f\"Costo total GAds: {costo_total_gads:,.2f} MXN\")\n",
    "# print(f\"Costo total Meta + GAds: {total_cost:,.2f} MXN\")"
   ]
  },
  {
   "cell_type": "markdown",
   "metadata": {},
   "source": [
    "#### Por marcas"
   ]
  },
  {
   "cell_type": "code",
   "execution_count": 28,
   "metadata": {},
   "outputs": [],
   "source": [
    "per_brand = df_merged.groupby([\"Marca\"])[[\"cost_meta\", \"cost_gads\"]].sum().reset_index()\n",
    "costo_total_meta_per_brand = int(df_merged[\"cost_meta\"].sum())\n",
    "costo_total_gads_per_brand = int(df_merged[\"cost_gads\"].sum())\n",
    "total_cost_per_brand = int(costo_total_meta + costo_total_gads)\n",
    "\n",
    "\n",
    "df_total = add_totals({\"Marca\": \"Total\", \"cost_meta\": costo_total_meta_per_brand, \"cost_gads\": costo_total_gads_per_brand})\n",
    "per_brand_with_totals = pd.concat([per_brand, df_total]) \n",
    "\n",
    "per_brand_with_totals[\"cost_meta\"] = per_brand_with_totals[\"cost_meta\"].astype(int) \n",
    "per_brand_with_totals[\"cost_gads\"] = per_brand_with_totals[\"cost_gads\"].astype(int) \n",
    "\n",
    "# display(per_brand_with_totals)\n",
    "\n",
    "\n",
    "# print(f\"Costo total Meta: {costo_total_meta_per_brand:,.2f} MXN\")\n",
    "# print(f\"Costo total GAds: {costo_total_gads_per_brand:,.2f} MXN\")\n",
    "# print(f\"Costo total Meta + GAds: {total_cost_per_brand:,.2f} MXN\")"
   ]
  },
  {
   "cell_type": "markdown",
   "metadata": {},
   "source": [
    "## RQLs obtenidos por estados"
   ]
  },
  {
   "cell_type": "code",
   "execution_count": 65,
   "metadata": {},
   "outputs": [],
   "source": [
    "rqls_per_state = pd.read_csv(r\"C:\\Users\\JTRUJILLO\\Documents\\Galgo\\Scripts\\Análisis\\rql_inversiones\\invest_per_state\\RQLs Amplitude\\20250414-rql_resumen_per_state.csv\")\n",
    "rqls_per_state = rqls_per_state.drop(columns = [\"Semana\", \"Año\"])"
   ]
  },
  {
   "cell_type": "code",
   "execution_count": 66,
   "metadata": {},
   "outputs": [],
   "source": [
    "rql_sum_rql_per_state = int(rqls_per_state[\"rql\"].sum())\n",
    "\n",
    "row_total = add_totals({'state': \"Total\", \"rql\": rql_sum_rql_per_state})\n",
    "\n",
    "rqls_per_state_with_totals = pd.concat([rqls_per_state, row_total])\n",
    "rqls_per_state_with_totals[\"rql\"] = rqls_per_state_with_totals[\"rql\"].astype(int) "
   ]
  },
  {
   "cell_type": "markdown",
   "metadata": {},
   "source": [
    "### trash"
   ]
  },
  {
   "cell_type": "code",
   "execution_count": null,
   "metadata": {},
   "outputs": [],
   "source": [
    "# rql_total = int(rqls_per_state[\"rql\"].sum())\n",
    "# rql_total\n",
    "\n",
    "\n",
    "# ---\n",
    "\n",
    "# rqls_por_marca_week_copy = rqls_por_marca_week.copy()\n",
    "# rqls_por_marca_week = rqls_por_marca_week_copy.groupby([\"brand\", \"Meta\", \"GAds\", \"Semana\", \"Año\"])[\"rql\"].sum().reset_index()\n",
    "# rqls_por_marca_week\n",
    "\n",
    "# ----\n",
    "\n",
    "# rqls_por_marca_week_total = rqls_por_marca_week[\"rql\"].sum()\n",
    "# print(rqls_por_marca_week_total)\n",
    "\n",
    "# ----\n",
    "\n",
    "\n",
    "# df_meta_cost_invest_rql_per_state = pd.merge(df_meta_invest_per_state_week, rqls_por_marca_week[[\"brand\", \"Meta\", \"rql\"]],\n",
    "#                                             left_on = [\"Region\", \"Marca\"],\n",
    "#                                             right_on = [\"Meta\", \"brand\"],\n",
    "#                                             how=\"left\")\n",
    "# df_meta_cost_invest_rql_per_state = df_meta_cost_invest_rql_per_state[[\"Semana\", \"Año\", \"Marca\", \"brand\", \"Region\", \"Cost\", \"Meta\", \"rql\"]]\n",
    "\n",
    "\n",
    "# ----\n",
    "\n",
    "# df_meta_cost_invest_rql_per_state.fillna({\"rql\": 0}, inplace=True)\n",
    "# df_meta_cost_invest_rql_per_state\n",
    "\n",
    "# ----\n",
    "\n",
    "# df_meta_marcas_no_generaron_rql = df_meta_cost_invest_rql_per_state.copy()\n",
    "# df_meta_marcas_no_generaron_rql = df_meta_marcas_no_generaron_rql[df_meta_marcas_no_generaron_rql[\"rql\"] == 0]\n",
    "# df_meta_marcas_no_generaron_rql.fillna({\"rql\": 0}, inplace=True)\n",
    "# df_meta_marcas_no_generaron_rql.head(2)\n",
    "\n",
    "\n",
    "# -----\n",
    "\n",
    "# df_meta_cost_invest_rql_per_state_invertidos =  df_meta_cost_invest_rql_per_state[df_meta_cost_invest_rql_per_state[\"Meta\"].notna()]\n",
    "# df_meta_cost_invest_rql_per_state_invertidos\n",
    "\n",
    "\n",
    "# ----\n",
    "\n",
    "\n",
    "# rql_meta = df_meta_cost_invest_rql_per_state_invertidos[\"rql\"].sum()\n",
    "# print(f\"RQLs Meta: {rql_meta}\")\n",
    "\n",
    "# -----\n",
    "\n",
    "# df_gads_cost_invest_rql_per_state = pd.merge(df_google_ads_invest_per_state_week, rqls_por_marca_week[[\"brand\", \"GAds\", \"rql\"]],\n",
    "#                                             left_on = [\"Region\", \"Marca\"],\n",
    "#                                             right_on = [\"GAds\", \"brand\"],\n",
    "#                                             how=\"left\")\n",
    "# df_gads_cost_invest_rql_per_state = df_gads_cost_invest_rql_per_state[[\"Semana\", \"Año\", \"Marca\", \"brand\", \"Region\", \"Cost\", \"GAds\", \"rql\"]]\n",
    "\n",
    "# ----\n",
    "\n",
    "# df_gads_cost_invest_rql_per_state_invertidos = df_gads_cost_invest_rql_per_state[df_gads_cost_invest_rql_per_state[\"GAds\"].notna()]\n",
    "# df_gads_cost_invest_rql_per_state_invertidos.head(2)\n",
    "\n",
    "# ----\n",
    "# asd = rqls_por_marca_week[\"rql\"].sum()\n",
    "# print(f\"asd: {asd}\")\n",
    "\n",
    "\n",
    "# ----\n",
    "\n",
    "\n",
    "# df_gads_rqls_generados = df_gads_cost_invest_rql_per_state_invertidos[\"rql\"].sum()\n",
    "# print(f\"df_gads_rqls_generados: {df_gads_rqls_generados}\")\n",
    "\n",
    "# ----\n",
    "\n",
    "# df_meta_rqls_generados = df_meta_cost_invest_rql_per_state_invertidos[\"rql\"].sum()\n",
    "# print(f\"df_meta_rqls_generados: {df_meta_rqls_generados}\")\n",
    "\n",
    "# ----\n",
    "\n",
    "# total_rqls = df_meta_rqls_generados + df_gads_rqls_generados\n",
    "# print(f\"Total de RQLs generados: {total_rqls}\")"
   ]
  },
  {
   "cell_type": "markdown",
   "metadata": {},
   "source": [
    "## RQLs obtenidos por marcas"
   ]
  },
  {
   "cell_type": "code",
   "execution_count": 33,
   "metadata": {},
   "outputs": [],
   "source": [
    "rqls_por_marca_week_copy = rqls_por_marca_week.copy()\n",
    "rqls_por_marca_week = rqls_por_marca_week_copy.groupby([\"brand\"])[\"rql\"].sum().reset_index()\n",
    "rqls_por_marca_week.sort_values(by=\"rql\", ascending=False, inplace=True)\n",
    "\n",
    "\n",
    "rqls_per_week = int(rqls_por_marca_week[\"rql\"].sum())\n",
    "rqls_per_week\n",
    "\n",
    "rqls_per_week_with_totals = add_totals({'brand': \"Total\", \"rql\": rqls_per_week})\n",
    "\n",
    "rqls_por_marca_week_with_totals = pd.concat([rqls_por_marca_week, rqls_per_week_with_totals])\n",
    "rqls_por_marca_week_with_totals[\"rql\"] = rqls_por_marca_week_with_totals[\"rql\"].astype(int) "
   ]
  },
  {
   "cell_type": "markdown",
   "metadata": {},
   "source": [
    "## RQLs obtenidos por Región"
   ]
  },
  {
   "cell_type": "markdown",
   "metadata": {},
   "source": [
    "## Reporte"
   ]
  },
  {
   "cell_type": "markdown",
   "metadata": {},
   "source": [
    "#### Inversión por marcas"
   ]
  },
  {
   "cell_type": "code",
   "execution_count": 67,
   "metadata": {},
   "outputs": [
    {
     "data": {
      "text/html": [
       "<div>\n",
       "<style scoped>\n",
       "    .dataframe tbody tr th:only-of-type {\n",
       "        vertical-align: middle;\n",
       "    }\n",
       "\n",
       "    .dataframe tbody tr th {\n",
       "        vertical-align: top;\n",
       "    }\n",
       "\n",
       "    .dataframe thead th {\n",
       "        text-align: right;\n",
       "    }\n",
       "</style>\n",
       "<table border=\"1\" class=\"dataframe\">\n",
       "  <thead>\n",
       "    <tr style=\"text-align: right;\">\n",
       "      <th></th>\n",
       "      <th>Marca</th>\n",
       "      <th>cost_meta</th>\n",
       "      <th>cost_gads</th>\n",
       "    </tr>\n",
       "  </thead>\n",
       "  <tbody>\n",
       "    <tr>\n",
       "      <th>0</th>\n",
       "      <td>Bajaj</td>\n",
       "      <td>133682</td>\n",
       "      <td>21178</td>\n",
       "    </tr>\n",
       "    <tr>\n",
       "      <th>1</th>\n",
       "      <td>Dinamo</td>\n",
       "      <td>0</td>\n",
       "      <td>773</td>\n",
       "    </tr>\n",
       "    <tr>\n",
       "      <th>2</th>\n",
       "      <td>Generica</td>\n",
       "      <td>127901</td>\n",
       "      <td>76825</td>\n",
       "    </tr>\n",
       "    <tr>\n",
       "      <th>3</th>\n",
       "      <td>Honda</td>\n",
       "      <td>7676</td>\n",
       "      <td>10166</td>\n",
       "    </tr>\n",
       "    <tr>\n",
       "      <th>4</th>\n",
       "      <td>Italika</td>\n",
       "      <td>8055</td>\n",
       "      <td>1635</td>\n",
       "    </tr>\n",
       "    <tr>\n",
       "      <th>5</th>\n",
       "      <td>Suzuki</td>\n",
       "      <td>6918</td>\n",
       "      <td>1675</td>\n",
       "    </tr>\n",
       "    <tr>\n",
       "      <th>6</th>\n",
       "      <td>TVS</td>\n",
       "      <td>6113</td>\n",
       "      <td>3549</td>\n",
       "    </tr>\n",
       "    <tr>\n",
       "      <th>7</th>\n",
       "      <td>Treck</td>\n",
       "      <td>0</td>\n",
       "      <td>160</td>\n",
       "    </tr>\n",
       "    <tr>\n",
       "      <th>8</th>\n",
       "      <td>Vento</td>\n",
       "      <td>8810</td>\n",
       "      <td>4904</td>\n",
       "    </tr>\n",
       "    <tr>\n",
       "      <th>9</th>\n",
       "      <td>Yamaha</td>\n",
       "      <td>10537</td>\n",
       "      <td>3383</td>\n",
       "    </tr>\n",
       "    <tr>\n",
       "      <th>0</th>\n",
       "      <td>Total</td>\n",
       "      <td>309696</td>\n",
       "      <td>124252</td>\n",
       "    </tr>\n",
       "  </tbody>\n",
       "</table>\n",
       "</div>"
      ],
      "text/plain": [
       "      Marca  cost_meta  cost_gads\n",
       "0     Bajaj     133682      21178\n",
       "1    Dinamo          0        773\n",
       "2  Generica     127901      76825\n",
       "3     Honda       7676      10166\n",
       "4   Italika       8055       1635\n",
       "5    Suzuki       6918       1675\n",
       "6       TVS       6113       3549\n",
       "7     Treck          0        160\n",
       "8     Vento       8810       4904\n",
       "9    Yamaha      10537       3383\n",
       "0     Total     309696     124252"
      ]
     },
     "execution_count": 67,
     "metadata": {},
     "output_type": "execute_result"
    }
   ],
   "source": [
    "per_brand_with_totals"
   ]
  },
  {
   "cell_type": "markdown",
   "metadata": {},
   "source": [
    "#### Inversión por estado"
   ]
  },
  {
   "cell_type": "code",
   "execution_count": 68,
   "metadata": {},
   "outputs": [
    {
     "data": {
      "text/html": [
       "<div>\n",
       "<style scoped>\n",
       "    .dataframe tbody tr th:only-of-type {\n",
       "        vertical-align: middle;\n",
       "    }\n",
       "\n",
       "    .dataframe tbody tr th {\n",
       "        vertical-align: top;\n",
       "    }\n",
       "\n",
       "    .dataframe thead th {\n",
       "        text-align: right;\n",
       "    }\n",
       "</style>\n",
       "<table border=\"1\" class=\"dataframe\">\n",
       "  <thead>\n",
       "    <tr style=\"text-align: right;\">\n",
       "      <th></th>\n",
       "      <th>Amplitude_ips</th>\n",
       "      <th>cost_meta</th>\n",
       "      <th>cost_gads</th>\n",
       "    </tr>\n",
       "  </thead>\n",
       "  <tbody>\n",
       "    <tr>\n",
       "      <th>0</th>\n",
       "      <td>Aguascalientes</td>\n",
       "      <td>28</td>\n",
       "      <td>0</td>\n",
       "    </tr>\n",
       "    <tr>\n",
       "      <th>1</th>\n",
       "      <td>Baja California</td>\n",
       "      <td>113</td>\n",
       "      <td>0</td>\n",
       "    </tr>\n",
       "    <tr>\n",
       "      <th>2</th>\n",
       "      <td>Baja California Sur</td>\n",
       "      <td>10</td>\n",
       "      <td>0</td>\n",
       "    </tr>\n",
       "    <tr>\n",
       "      <th>3</th>\n",
       "      <td>Campeche</td>\n",
       "      <td>88</td>\n",
       "      <td>436</td>\n",
       "    </tr>\n",
       "    <tr>\n",
       "      <th>4</th>\n",
       "      <td>Chiapas</td>\n",
       "      <td>22</td>\n",
       "      <td>0</td>\n",
       "    </tr>\n",
       "    <tr>\n",
       "      <th>5</th>\n",
       "      <td>Chihuahua</td>\n",
       "      <td>18</td>\n",
       "      <td>0</td>\n",
       "    </tr>\n",
       "    <tr>\n",
       "      <th>6</th>\n",
       "      <td>Coahuila</td>\n",
       "      <td>447</td>\n",
       "      <td>92</td>\n",
       "    </tr>\n",
       "    <tr>\n",
       "      <th>7</th>\n",
       "      <td>Colima</td>\n",
       "      <td>70</td>\n",
       "      <td>0</td>\n",
       "    </tr>\n",
       "    <tr>\n",
       "      <th>8</th>\n",
       "      <td>Durango</td>\n",
       "      <td>26</td>\n",
       "      <td>0</td>\n",
       "    </tr>\n",
       "    <tr>\n",
       "      <th>9</th>\n",
       "      <td>Guanajuato</td>\n",
       "      <td>238</td>\n",
       "      <td>0</td>\n",
       "    </tr>\n",
       "    <tr>\n",
       "      <th>10</th>\n",
       "      <td>Guerrero</td>\n",
       "      <td>483</td>\n",
       "      <td>0</td>\n",
       "    </tr>\n",
       "    <tr>\n",
       "      <th>11</th>\n",
       "      <td>Hidalgo</td>\n",
       "      <td>1408</td>\n",
       "      <td>0</td>\n",
       "    </tr>\n",
       "    <tr>\n",
       "      <th>12</th>\n",
       "      <td>Jalisco</td>\n",
       "      <td>46860</td>\n",
       "      <td>18417</td>\n",
       "    </tr>\n",
       "    <tr>\n",
       "      <th>13</th>\n",
       "      <td>Mexico City</td>\n",
       "      <td>73646</td>\n",
       "      <td>37405</td>\n",
       "    </tr>\n",
       "    <tr>\n",
       "      <th>14</th>\n",
       "      <td>Michoacán</td>\n",
       "      <td>443</td>\n",
       "      <td>0</td>\n",
       "    </tr>\n",
       "    <tr>\n",
       "      <th>15</th>\n",
       "      <td>Morelos</td>\n",
       "      <td>7632</td>\n",
       "      <td>1306</td>\n",
       "    </tr>\n",
       "    <tr>\n",
       "      <th>16</th>\n",
       "      <td>México</td>\n",
       "      <td>79949</td>\n",
       "      <td>40416</td>\n",
       "    </tr>\n",
       "    <tr>\n",
       "      <th>17</th>\n",
       "      <td>Nayarit</td>\n",
       "      <td>59</td>\n",
       "      <td>0</td>\n",
       "    </tr>\n",
       "    <tr>\n",
       "      <th>18</th>\n",
       "      <td>Nuevo León</td>\n",
       "      <td>21181</td>\n",
       "      <td>5787</td>\n",
       "    </tr>\n",
       "    <tr>\n",
       "      <th>19</th>\n",
       "      <td>Oaxaca</td>\n",
       "      <td>8583</td>\n",
       "      <td>2807</td>\n",
       "    </tr>\n",
       "    <tr>\n",
       "      <th>20</th>\n",
       "      <td>Puebla</td>\n",
       "      <td>25983</td>\n",
       "      <td>6294</td>\n",
       "    </tr>\n",
       "    <tr>\n",
       "      <th>21</th>\n",
       "      <td>Querétaro</td>\n",
       "      <td>110</td>\n",
       "      <td>0</td>\n",
       "    </tr>\n",
       "    <tr>\n",
       "      <th>22</th>\n",
       "      <td>Quintana Roo</td>\n",
       "      <td>24441</td>\n",
       "      <td>4902</td>\n",
       "    </tr>\n",
       "    <tr>\n",
       "      <th>23</th>\n",
       "      <td>San Luis Potosí</td>\n",
       "      <td>82</td>\n",
       "      <td>0</td>\n",
       "    </tr>\n",
       "    <tr>\n",
       "      <th>24</th>\n",
       "      <td>Sinaloa</td>\n",
       "      <td>65</td>\n",
       "      <td>0</td>\n",
       "    </tr>\n",
       "    <tr>\n",
       "      <th>25</th>\n",
       "      <td>Sonora</td>\n",
       "      <td>19</td>\n",
       "      <td>0</td>\n",
       "    </tr>\n",
       "    <tr>\n",
       "      <th>26</th>\n",
       "      <td>Tabasco</td>\n",
       "      <td>143</td>\n",
       "      <td>0</td>\n",
       "    </tr>\n",
       "    <tr>\n",
       "      <th>27</th>\n",
       "      <td>Tamaulipas</td>\n",
       "      <td>27</td>\n",
       "      <td>0</td>\n",
       "    </tr>\n",
       "    <tr>\n",
       "      <th>28</th>\n",
       "      <td>Tlaxcala</td>\n",
       "      <td>5652</td>\n",
       "      <td>1032</td>\n",
       "    </tr>\n",
       "    <tr>\n",
       "      <th>29</th>\n",
       "      <td>Veracruz</td>\n",
       "      <td>3047</td>\n",
       "      <td>2139</td>\n",
       "    </tr>\n",
       "    <tr>\n",
       "      <th>30</th>\n",
       "      <td>Yucatán</td>\n",
       "      <td>8781</td>\n",
       "      <td>3212</td>\n",
       "    </tr>\n",
       "    <tr>\n",
       "      <th>31</th>\n",
       "      <td>Zacatecas</td>\n",
       "      <td>27</td>\n",
       "      <td>0</td>\n",
       "    </tr>\n",
       "    <tr>\n",
       "      <th>0</th>\n",
       "      <td>Total</td>\n",
       "      <td>309696</td>\n",
       "      <td>124252</td>\n",
       "    </tr>\n",
       "  </tbody>\n",
       "</table>\n",
       "</div>"
      ],
      "text/plain": [
       "          Amplitude_ips  cost_meta  cost_gads\n",
       "0        Aguascalientes         28          0\n",
       "1       Baja California        113          0\n",
       "2   Baja California Sur         10          0\n",
       "3              Campeche         88        436\n",
       "4               Chiapas         22          0\n",
       "5             Chihuahua         18          0\n",
       "6              Coahuila        447         92\n",
       "7                Colima         70          0\n",
       "8               Durango         26          0\n",
       "9            Guanajuato        238          0\n",
       "10             Guerrero        483          0\n",
       "11              Hidalgo       1408          0\n",
       "12              Jalisco      46860      18417\n",
       "13          Mexico City      73646      37405\n",
       "14            Michoacán        443          0\n",
       "15              Morelos       7632       1306\n",
       "16               México      79949      40416\n",
       "17              Nayarit         59          0\n",
       "18           Nuevo León      21181       5787\n",
       "19               Oaxaca       8583       2807\n",
       "20               Puebla      25983       6294\n",
       "21            Querétaro        110          0\n",
       "22         Quintana Roo      24441       4902\n",
       "23      San Luis Potosí         82          0\n",
       "24              Sinaloa         65          0\n",
       "25               Sonora         19          0\n",
       "26              Tabasco        143          0\n",
       "27           Tamaulipas         27          0\n",
       "28             Tlaxcala       5652       1032\n",
       "29             Veracruz       3047       2139\n",
       "30              Yucatán       8781       3212\n",
       "31            Zacatecas         27          0\n",
       "0                 Total     309696     124252"
      ]
     },
     "execution_count": 68,
     "metadata": {},
     "output_type": "execute_result"
    }
   ],
   "source": [
    "per_state_with_totals"
   ]
  },
  {
   "cell_type": "markdown",
   "metadata": {},
   "source": [
    "RQLs por marcas"
   ]
  },
  {
   "cell_type": "code",
   "execution_count": 69,
   "metadata": {},
   "outputs": [
    {
     "data": {
      "text/html": [
       "<div>\n",
       "<style scoped>\n",
       "    .dataframe tbody tr th:only-of-type {\n",
       "        vertical-align: middle;\n",
       "    }\n",
       "\n",
       "    .dataframe tbody tr th {\n",
       "        vertical-align: top;\n",
       "    }\n",
       "\n",
       "    .dataframe thead th {\n",
       "        text-align: right;\n",
       "    }\n",
       "</style>\n",
       "<table border=\"1\" class=\"dataframe\">\n",
       "  <thead>\n",
       "    <tr style=\"text-align: right;\">\n",
       "      <th></th>\n",
       "      <th>brand</th>\n",
       "      <th>rql</th>\n",
       "    </tr>\n",
       "  </thead>\n",
       "  <tbody>\n",
       "    <tr>\n",
       "      <th>0</th>\n",
       "      <td>Bajaj</td>\n",
       "      <td>1927</td>\n",
       "    </tr>\n",
       "    <tr>\n",
       "      <th>19</th>\n",
       "      <td>Vento</td>\n",
       "      <td>625</td>\n",
       "    </tr>\n",
       "    <tr>\n",
       "      <th>2</th>\n",
       "      <td>CF Moto</td>\n",
       "      <td>507</td>\n",
       "    </tr>\n",
       "    <tr>\n",
       "      <th>9</th>\n",
       "      <td>Italika</td>\n",
       "      <td>368</td>\n",
       "    </tr>\n",
       "    <tr>\n",
       "      <th>7</th>\n",
       "      <td>Honda</td>\n",
       "      <td>315</td>\n",
       "    </tr>\n",
       "    <tr>\n",
       "      <th>20</th>\n",
       "      <td>Yamaha</td>\n",
       "      <td>194</td>\n",
       "    </tr>\n",
       "    <tr>\n",
       "      <th>16</th>\n",
       "      <td>Suzuki</td>\n",
       "      <td>192</td>\n",
       "    </tr>\n",
       "    <tr>\n",
       "      <th>11</th>\n",
       "      <td>KTM</td>\n",
       "      <td>191</td>\n",
       "    </tr>\n",
       "    <tr>\n",
       "      <th>3</th>\n",
       "      <td>CFLITE</td>\n",
       "      <td>112</td>\n",
       "    </tr>\n",
       "    <tr>\n",
       "      <th>17</th>\n",
       "      <td>TVS</td>\n",
       "      <td>112</td>\n",
       "    </tr>\n",
       "    <tr>\n",
       "      <th>12</th>\n",
       "      <td>Kawasaki</td>\n",
       "      <td>80</td>\n",
       "    </tr>\n",
       "    <tr>\n",
       "      <th>1</th>\n",
       "      <td>Benelli</td>\n",
       "      <td>63</td>\n",
       "    </tr>\n",
       "    <tr>\n",
       "      <th>6</th>\n",
       "      <td>Hero</td>\n",
       "      <td>60</td>\n",
       "    </tr>\n",
       "    <tr>\n",
       "      <th>21</th>\n",
       "      <td>Zmoto</td>\n",
       "      <td>25</td>\n",
       "    </tr>\n",
       "    <tr>\n",
       "      <th>14</th>\n",
       "      <td>MB</td>\n",
       "      <td>22</td>\n",
       "    </tr>\n",
       "    <tr>\n",
       "      <th>5</th>\n",
       "      <td>Dinamo</td>\n",
       "      <td>20</td>\n",
       "    </tr>\n",
       "    <tr>\n",
       "      <th>10</th>\n",
       "      <td>Jiajue</td>\n",
       "      <td>10</td>\n",
       "    </tr>\n",
       "    <tr>\n",
       "      <th>8</th>\n",
       "      <td>Husqvarna</td>\n",
       "      <td>9</td>\n",
       "    </tr>\n",
       "    <tr>\n",
       "      <th>15</th>\n",
       "      <td>Royal Enfield</td>\n",
       "      <td>8</td>\n",
       "    </tr>\n",
       "    <tr>\n",
       "      <th>4</th>\n",
       "      <td>Carabela</td>\n",
       "      <td>4</td>\n",
       "    </tr>\n",
       "    <tr>\n",
       "      <th>22</th>\n",
       "      <td>Zontes</td>\n",
       "      <td>4</td>\n",
       "    </tr>\n",
       "    <tr>\n",
       "      <th>18</th>\n",
       "      <td>Treck</td>\n",
       "      <td>2</td>\n",
       "    </tr>\n",
       "    <tr>\n",
       "      <th>13</th>\n",
       "      <td>Kymco</td>\n",
       "      <td>1</td>\n",
       "    </tr>\n",
       "    <tr>\n",
       "      <th>0</th>\n",
       "      <td>Total</td>\n",
       "      <td>4851</td>\n",
       "    </tr>\n",
       "  </tbody>\n",
       "</table>\n",
       "</div>"
      ],
      "text/plain": [
       "            brand   rql\n",
       "0           Bajaj  1927\n",
       "19          Vento   625\n",
       "2         CF Moto   507\n",
       "9         Italika   368\n",
       "7           Honda   315\n",
       "20         Yamaha   194\n",
       "16         Suzuki   192\n",
       "11            KTM   191\n",
       "3          CFLITE   112\n",
       "17            TVS   112\n",
       "12       Kawasaki    80\n",
       "1         Benelli    63\n",
       "6            Hero    60\n",
       "21          Zmoto    25\n",
       "14             MB    22\n",
       "5          Dinamo    20\n",
       "10         Jiajue    10\n",
       "8       Husqvarna     9\n",
       "15  Royal Enfield     8\n",
       "4        Carabela     4\n",
       "22         Zontes     4\n",
       "18          Treck     2\n",
       "13          Kymco     1\n",
       "0           Total  4851"
      ]
     },
     "execution_count": 69,
     "metadata": {},
     "output_type": "execute_result"
    }
   ],
   "source": [
    "rqls_por_marca_week_with_totals"
   ]
  },
  {
   "cell_type": "markdown",
   "metadata": {},
   "source": [
    "RQLs por estados"
   ]
  },
  {
   "cell_type": "code",
   "execution_count": 70,
   "metadata": {},
   "outputs": [
    {
     "data": {
      "text/html": [
       "<div>\n",
       "<style scoped>\n",
       "    .dataframe tbody tr th:only-of-type {\n",
       "        vertical-align: middle;\n",
       "    }\n",
       "\n",
       "    .dataframe tbody tr th {\n",
       "        vertical-align: top;\n",
       "    }\n",
       "\n",
       "    .dataframe thead th {\n",
       "        text-align: right;\n",
       "    }\n",
       "</style>\n",
       "<table border=\"1\" class=\"dataframe\">\n",
       "  <thead>\n",
       "    <tr style=\"text-align: right;\">\n",
       "      <th></th>\n",
       "      <th>state</th>\n",
       "      <th>rql</th>\n",
       "    </tr>\n",
       "  </thead>\n",
       "  <tbody>\n",
       "    <tr>\n",
       "      <th>0</th>\n",
       "      <td>Aguascalientes</td>\n",
       "      <td>14</td>\n",
       "    </tr>\n",
       "    <tr>\n",
       "      <th>1</th>\n",
       "      <td>Baja California</td>\n",
       "      <td>9</td>\n",
       "    </tr>\n",
       "    <tr>\n",
       "      <th>2</th>\n",
       "      <td>Baja California Sur</td>\n",
       "      <td>8</td>\n",
       "    </tr>\n",
       "    <tr>\n",
       "      <th>3</th>\n",
       "      <td>Campeche</td>\n",
       "      <td>39</td>\n",
       "    </tr>\n",
       "    <tr>\n",
       "      <th>4</th>\n",
       "      <td>Chihuahua</td>\n",
       "      <td>15</td>\n",
       "    </tr>\n",
       "    <tr>\n",
       "      <th>5</th>\n",
       "      <td>Ciudad de México</td>\n",
       "      <td>855</td>\n",
       "    </tr>\n",
       "    <tr>\n",
       "      <th>6</th>\n",
       "      <td>Coahuila de Zaragoza</td>\n",
       "      <td>24</td>\n",
       "    </tr>\n",
       "    <tr>\n",
       "      <th>7</th>\n",
       "      <td>Colima</td>\n",
       "      <td>26</td>\n",
       "    </tr>\n",
       "    <tr>\n",
       "      <th>8</th>\n",
       "      <td>Durango</td>\n",
       "      <td>6</td>\n",
       "    </tr>\n",
       "    <tr>\n",
       "      <th>9</th>\n",
       "      <td>Estado de México</td>\n",
       "      <td>4</td>\n",
       "    </tr>\n",
       "    <tr>\n",
       "      <th>10</th>\n",
       "      <td>Guanajuato</td>\n",
       "      <td>113</td>\n",
       "    </tr>\n",
       "    <tr>\n",
       "      <th>11</th>\n",
       "      <td>Guerrero</td>\n",
       "      <td>57</td>\n",
       "    </tr>\n",
       "    <tr>\n",
       "      <th>12</th>\n",
       "      <td>Hidalgo</td>\n",
       "      <td>56</td>\n",
       "    </tr>\n",
       "    <tr>\n",
       "      <th>13</th>\n",
       "      <td>Jalisco</td>\n",
       "      <td>513</td>\n",
       "    </tr>\n",
       "    <tr>\n",
       "      <th>14</th>\n",
       "      <td>Michoacán</td>\n",
       "      <td>77</td>\n",
       "    </tr>\n",
       "    <tr>\n",
       "      <th>15</th>\n",
       "      <td>Morelos</td>\n",
       "      <td>147</td>\n",
       "    </tr>\n",
       "    <tr>\n",
       "      <th>16</th>\n",
       "      <td>México</td>\n",
       "      <td>1386</td>\n",
       "    </tr>\n",
       "    <tr>\n",
       "      <th>17</th>\n",
       "      <td>Nayarit</td>\n",
       "      <td>34</td>\n",
       "    </tr>\n",
       "    <tr>\n",
       "      <th>18</th>\n",
       "      <td>Nuevo León</td>\n",
       "      <td>200</td>\n",
       "    </tr>\n",
       "    <tr>\n",
       "      <th>19</th>\n",
       "      <td>Oaxaca</td>\n",
       "      <td>165</td>\n",
       "    </tr>\n",
       "    <tr>\n",
       "      <th>20</th>\n",
       "      <td>Puebla</td>\n",
       "      <td>290</td>\n",
       "    </tr>\n",
       "    <tr>\n",
       "      <th>21</th>\n",
       "      <td>Querétaro</td>\n",
       "      <td>40</td>\n",
       "    </tr>\n",
       "    <tr>\n",
       "      <th>22</th>\n",
       "      <td>Quintana Roo</td>\n",
       "      <td>229</td>\n",
       "    </tr>\n",
       "    <tr>\n",
       "      <th>23</th>\n",
       "      <td>San Luis Potosí</td>\n",
       "      <td>44</td>\n",
       "    </tr>\n",
       "    <tr>\n",
       "      <th>24</th>\n",
       "      <td>Sinaloa</td>\n",
       "      <td>21</td>\n",
       "    </tr>\n",
       "    <tr>\n",
       "      <th>25</th>\n",
       "      <td>Sonora</td>\n",
       "      <td>7</td>\n",
       "    </tr>\n",
       "    <tr>\n",
       "      <th>26</th>\n",
       "      <td>Tabasco</td>\n",
       "      <td>64</td>\n",
       "    </tr>\n",
       "    <tr>\n",
       "      <th>27</th>\n",
       "      <td>Tamaulipas</td>\n",
       "      <td>27</td>\n",
       "    </tr>\n",
       "    <tr>\n",
       "      <th>28</th>\n",
       "      <td>Tlaxcala</td>\n",
       "      <td>61</td>\n",
       "    </tr>\n",
       "    <tr>\n",
       "      <th>29</th>\n",
       "      <td>Veracruz</td>\n",
       "      <td>191</td>\n",
       "    </tr>\n",
       "    <tr>\n",
       "      <th>30</th>\n",
       "      <td>Yucatán</td>\n",
       "      <td>124</td>\n",
       "    </tr>\n",
       "    <tr>\n",
       "      <th>31</th>\n",
       "      <td>Zacatecas</td>\n",
       "      <td>5</td>\n",
       "    </tr>\n",
       "    <tr>\n",
       "      <th>0</th>\n",
       "      <td>Total</td>\n",
       "      <td>4851</td>\n",
       "    </tr>\n",
       "  </tbody>\n",
       "</table>\n",
       "</div>"
      ],
      "text/plain": [
       "                   state   rql\n",
       "0         Aguascalientes    14\n",
       "1        Baja California     9\n",
       "2    Baja California Sur     8\n",
       "3               Campeche    39\n",
       "4              Chihuahua    15\n",
       "5       Ciudad de México   855\n",
       "6   Coahuila de Zaragoza    24\n",
       "7                 Colima    26\n",
       "8                Durango     6\n",
       "9       Estado de México     4\n",
       "10            Guanajuato   113\n",
       "11              Guerrero    57\n",
       "12               Hidalgo    56\n",
       "13               Jalisco   513\n",
       "14             Michoacán    77\n",
       "15               Morelos   147\n",
       "16                México  1386\n",
       "17               Nayarit    34\n",
       "18            Nuevo León   200\n",
       "19                Oaxaca   165\n",
       "20                Puebla   290\n",
       "21             Querétaro    40\n",
       "22          Quintana Roo   229\n",
       "23       San Luis Potosí    44\n",
       "24               Sinaloa    21\n",
       "25                Sonora     7\n",
       "26               Tabasco    64\n",
       "27            Tamaulipas    27\n",
       "28              Tlaxcala    61\n",
       "29              Veracruz   191\n",
       "30               Yucatán   124\n",
       "31             Zacatecas     5\n",
       "0                  Total  4851"
      ]
     },
     "execution_count": 70,
     "metadata": {},
     "output_type": "execute_result"
    }
   ],
   "source": [
    "rqls_per_state_with_totals"
   ]
  },
  {
   "cell_type": "markdown",
   "metadata": {},
   "source": [
    "## Exportaciones"
   ]
  },
  {
   "cell_type": "code",
   "execution_count": null,
   "metadata": {},
   "outputs": [],
   "source": [
    "actual_date = pd.Timestamp.now().strftime('%Y%m%d')\n",
    "print(actual_date)"
   ]
  },
  {
   "cell_type": "code",
   "execution_count": 40,
   "metadata": {},
   "outputs": [],
   "source": [
    "per_brand_with_totals.to_csv(f\"outputs/Totales/{actual_date}-total_cost_per_brand.csv\", index = False)"
   ]
  },
  {
   "cell_type": "code",
   "execution_count": 41,
   "metadata": {},
   "outputs": [],
   "source": [
    "per_state_with_totals.to_csv(f\"outputs/Totales/{actual_date}-total_cost_per_state_with_totals.csv\", index = False)"
   ]
  },
  {
   "cell_type": "code",
   "execution_count": 43,
   "metadata": {},
   "outputs": [],
   "source": [
    "rqls_por_marca_week_with_totals.to_csv(f\"outputs/Totales/{actual_date}-total_rqls_por_marca_week.csv\", index = False)"
   ]
  },
  {
   "cell_type": "code",
   "execution_count": 71,
   "metadata": {},
   "outputs": [],
   "source": [
    "rqls_per_state_with_totals.to_csv(f\"outputs/Totales/{actual_date}-total_rqls_per_state_with_totals.csv\", index = False)"
   ]
  },
  {
   "cell_type": "code",
   "execution_count": null,
   "metadata": {},
   "outputs": [],
   "source": []
  },
  {
   "cell_type": "code",
   "execution_count": null,
   "metadata": {},
   "outputs": [],
   "source": []
  },
  {
   "cell_type": "code",
   "execution_count": null,
   "metadata": {},
   "outputs": [],
   "source": []
  }
 ],
 "metadata": {
  "kernelspec": {
   "display_name": "venv",
   "language": "python",
   "name": "python3"
  },
  "language_info": {
   "codemirror_mode": {
    "name": "ipython",
    "version": 3
   },
   "file_extension": ".py",
   "mimetype": "text/x-python",
   "name": "python",
   "nbconvert_exporter": "python",
   "pygments_lexer": "ipython3",
   "version": "3.11.0"
  }
 },
 "nbformat": 4,
 "nbformat_minor": 2
}
