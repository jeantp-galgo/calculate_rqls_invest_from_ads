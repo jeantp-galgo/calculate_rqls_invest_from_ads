{
 "cells": [
  {
   "cell_type": "code",
   "execution_count": 19,
   "metadata": {},
   "outputs": [],
   "source": [
    "import sys\n",
    "sys.path.append('../')\n",
    "import pandas as pd\n",
    "from plataforms.investment_analyzer import InvestmentAnalyzer\n",
    "from plataforms.tables_utils.invest import *"
   ]
  },
  {
   "cell_type": "code",
   "execution_count": 20,
   "metadata": {},
   "outputs": [],
   "source": [
    "# Lectura del archivo de Meta\n",
    "meta_ads_path = r\"C:\\Users\\JTRUJILLO\\Documents\\Galgo\\Scripts\\Análisis\\rql_inversiones\\BD Ads\\Abril\\14042025\\MX BD Ads saturación mensual - Meta.csv\"\n",
    "\n",
    "# Lectura del archivo de Google Ads\n",
    "google_ads_path = r\"C:\\Users\\JTRUJILLO\\Documents\\Galgo\\Scripts\\Análisis\\rql_inversiones\\BD Ads\\Abril\\14042025\\MX BD Ads saturación mensual - GAds.csv\""
   ]
  },
  {
   "cell_type": "code",
   "execution_count": 21,
   "metadata": {},
   "outputs": [
    {
     "name": "stderr",
     "output_type": "stream",
     "text": [
      "c:\\Users\\JTRUJILLO\\Documents\\Galgo\\Scripts\\Análisis\\rql_inversiones\\plataforms\\utils\\calculate_utils.py:16: SettingWithCopyWarning: \n",
      "A value is trying to be set on a copy of a slice from a DataFrame.\n",
      "Try using .loc[row_indexer,col_indexer] = value instead\n",
      "\n",
      "See the caveats in the documentation: https://pandas.pydata.org/pandas-docs/stable/user_guide/indexing.html#returning-a-view-versus-a-copy\n",
      "  df['brand_categoria'] = df['brand'].apply(categorizar_marca)\n"
     ]
    }
   ],
   "source": [
    "# Inicializar la clase InvestmentAnalyzer\n",
    "investment_analyzer = InvestmentAnalyzer(meta_ads_path, google_ads_path, 15)\n",
    "# Ejecutar el análisis\n",
    "investment_analyzer.start_analysis()"
   ]
  },
  {
   "cell_type": "markdown",
   "metadata": {},
   "source": [
    "## Tabla de inversión"
   ]
  },
  {
   "cell_type": "code",
   "execution_count": 22,
   "metadata": {},
   "outputs": [
    {
     "data": {
      "text/html": [
       "<div>\n",
       "<style scoped>\n",
       "    .dataframe tbody tr th:only-of-type {\n",
       "        vertical-align: middle;\n",
       "    }\n",
       "\n",
       "    .dataframe tbody tr th {\n",
       "        vertical-align: top;\n",
       "    }\n",
       "\n",
       "    .dataframe thead th {\n",
       "        text-align: right;\n",
       "    }\n",
       "</style>\n",
       "<table border=\"1\" class=\"dataframe\">\n",
       "  <thead>\n",
       "    <tr style=\"text-align: right;\">\n",
       "      <th></th>\n",
       "      <th>Marca</th>\n",
       "      <th>Semana</th>\n",
       "      <th>Año</th>\n",
       "      <th>Cost</th>\n",
       "    </tr>\n",
       "  </thead>\n",
       "  <tbody>\n",
       "    <tr>\n",
       "      <th>45</th>\n",
       "      <td>Generica</td>\n",
       "      <td>15</td>\n",
       "      <td>2025</td>\n",
       "      <td>204726.93</td>\n",
       "    </tr>\n",
       "    <tr>\n",
       "      <th>14</th>\n",
       "      <td>Bajaj</td>\n",
       "      <td>15</td>\n",
       "      <td>2025</td>\n",
       "      <td>154861.19</td>\n",
       "    </tr>\n",
       "    <tr>\n",
       "      <th>61</th>\n",
       "      <td>Honda</td>\n",
       "      <td>15</td>\n",
       "      <td>2025</td>\n",
       "      <td>17842.59</td>\n",
       "    </tr>\n",
       "    <tr>\n",
       "      <th>147</th>\n",
       "      <td>Yamaha</td>\n",
       "      <td>15</td>\n",
       "      <td>2025</td>\n",
       "      <td>13920.50</td>\n",
       "    </tr>\n",
       "    <tr>\n",
       "      <th>131</th>\n",
       "      <td>Vento</td>\n",
       "      <td>15</td>\n",
       "      <td>2025</td>\n",
       "      <td>13715.32</td>\n",
       "    </tr>\n",
       "  </tbody>\n",
       "</table>\n",
       "</div>"
      ],
      "text/plain": [
       "        Marca  Semana   Año       Cost\n",
       "45   Generica      15  2025  204726.93\n",
       "14      Bajaj      15  2025  154861.19\n",
       "61      Honda      15  2025   17842.59\n",
       "147    Yamaha      15  2025   13920.50\n",
       "131     Vento      15  2025   13715.32"
      ]
     },
     "execution_count": 22,
     "metadata": {},
     "output_type": "execute_result"
    }
   ],
   "source": [
    "df_total_investment_plataforms_per_brand = investment_analyzer.get_df_total_investment_plataforms_per_brand(week = 15)\n",
    "df_total_investment_plataforms_per_brand.head()"
   ]
  },
  {
   "cell_type": "code",
   "execution_count": 23,
   "metadata": {},
   "outputs": [
    {
     "data": {
      "text/html": [
       "<div>\n",
       "<style scoped>\n",
       "    .dataframe tbody tr th:only-of-type {\n",
       "        vertical-align: middle;\n",
       "    }\n",
       "\n",
       "    .dataframe tbody tr th {\n",
       "        vertical-align: top;\n",
       "    }\n",
       "\n",
       "    .dataframe thead th {\n",
       "        text-align: right;\n",
       "    }\n",
       "</style>\n",
       "<table border=\"1\" class=\"dataframe\">\n",
       "  <thead>\n",
       "    <tr style=\"text-align: right;\">\n",
       "      <th></th>\n",
       "      <th>brand_categoria</th>\n",
       "      <th>original_cost</th>\n",
       "      <th>distribute_cost</th>\n",
       "      <th>total_cost</th>\n",
       "    </tr>\n",
       "  </thead>\n",
       "  <tbody>\n",
       "    <tr>\n",
       "      <th>0</th>\n",
       "      <td>Bajaj</td>\n",
       "      <td>154861.19</td>\n",
       "      <td>125110.33</td>\n",
       "      <td>279971.52</td>\n",
       "    </tr>\n",
       "    <tr>\n",
       "      <th>1</th>\n",
       "      <td>Vento</td>\n",
       "      <td>13715.32</td>\n",
       "      <td>45494.67</td>\n",
       "      <td>59209.99</td>\n",
       "    </tr>\n",
       "    <tr>\n",
       "      <th>2</th>\n",
       "      <td>Honda</td>\n",
       "      <td>17842.59</td>\n",
       "      <td>11373.67</td>\n",
       "      <td>29216.26</td>\n",
       "    </tr>\n",
       "    <tr>\n",
       "      <th>3</th>\n",
       "      <td>Otros</td>\n",
       "      <td>23448.56</td>\n",
       "      <td>0.00</td>\n",
       "      <td>23448.56</td>\n",
       "    </tr>\n",
       "    <tr>\n",
       "      <th>4</th>\n",
       "      <td>Italika</td>\n",
       "      <td>9690.80</td>\n",
       "      <td>11373.67</td>\n",
       "      <td>21064.47</td>\n",
       "    </tr>\n",
       "    <tr>\n",
       "      <th>5</th>\n",
       "      <td>TVS</td>\n",
       "      <td>9662.98</td>\n",
       "      <td>11373.67</td>\n",
       "      <td>21036.65</td>\n",
       "    </tr>\n",
       "    <tr>\n",
       "      <th>6</th>\n",
       "      <td>Total</td>\n",
       "      <td>229221.44</td>\n",
       "      <td>204726.01</td>\n",
       "      <td>433947.45</td>\n",
       "    </tr>\n",
       "  </tbody>\n",
       "</table>\n",
       "</div>"
      ],
      "text/plain": [
       "  brand_categoria  original_cost  distribute_cost  total_cost\n",
       "0           Bajaj      154861.19        125110.33   279971.52\n",
       "1           Vento       13715.32         45494.67    59209.99\n",
       "2           Honda       17842.59         11373.67    29216.26\n",
       "3           Otros       23448.56             0.00    23448.56\n",
       "4         Italika        9690.80         11373.67    21064.47\n",
       "5             TVS        9662.98         11373.67    21036.65\n",
       "6           Total      229221.44        204726.01   433947.45"
      ]
     },
     "execution_count": 23,
     "metadata": {},
     "output_type": "execute_result"
    }
   ],
   "source": [
    "df_generic_invest_distribution = investment_analyzer.get_df_generic_invest_distribution()\n",
    "df_generic_invest_distribution"
   ]
  },
  {
   "cell_type": "markdown",
   "metadata": {},
   "source": [
    "### Generar tabla de inversión"
   ]
  },
  {
   "cell_type": "code",
   "execution_count": 24,
   "metadata": {},
   "outputs": [],
   "source": [
    "df_investment_per_brands = generate_invest_total(df_generic_invest_distribution, df_total_investment_plataforms_per_brand)\n",
    "\n",
    "# Asignar el DataFrame de inversión por marcas para poder usarlo en posteriores análisis\n",
    "investment_analyzer.df_investment_per_brands = df_investment_per_brands"
   ]
  },
  {
   "cell_type": "markdown",
   "metadata": {},
   "source": [
    "### Generar tabla de shares de inversión"
   ]
  },
  {
   "cell_type": "code",
   "execution_count": 25,
   "metadata": {},
   "outputs": [],
   "source": [
    "df_shares_investment_per_brand = get_df_share_investment_plataforms_per_brand(df_investment_per_brands)\n",
    "\n",
    "# Asignar el DataFrame de shares de inversión por marca para poder usarlo en posteriores análisis\n",
    "investment_analyzer.df_shares_investment_per_brand = df_shares_investment_per_brand"
   ]
  },
  {
   "cell_type": "code",
   "execution_count": 27,
   "metadata": {},
   "outputs": [
    {
     "data": {
      "text/html": [
       "<div>\n",
       "<style scoped>\n",
       "    .dataframe tbody tr th:only-of-type {\n",
       "        vertical-align: middle;\n",
       "    }\n",
       "\n",
       "    .dataframe tbody tr th {\n",
       "        vertical-align: top;\n",
       "    }\n",
       "\n",
       "    .dataframe thead th {\n",
       "        text-align: right;\n",
       "    }\n",
       "</style>\n",
       "<table border=\"1\" class=\"dataframe\">\n",
       "  <thead>\n",
       "    <tr style=\"text-align: right;\">\n",
       "      <th></th>\n",
       "      <th>Marca</th>\n",
       "      <th>Cost</th>\n",
       "    </tr>\n",
       "  </thead>\n",
       "  <tbody>\n",
       "    <tr>\n",
       "      <th>0</th>\n",
       "      <td>Bajaj</td>\n",
       "      <td>279971.52</td>\n",
       "    </tr>\n",
       "    <tr>\n",
       "      <th>1</th>\n",
       "      <td>Vento</td>\n",
       "      <td>59209.99</td>\n",
       "    </tr>\n",
       "    <tr>\n",
       "      <th>2</th>\n",
       "      <td>Honda</td>\n",
       "      <td>29216.26</td>\n",
       "    </tr>\n",
       "    <tr>\n",
       "      <th>3</th>\n",
       "      <td>Italika</td>\n",
       "      <td>21064.47</td>\n",
       "    </tr>\n",
       "    <tr>\n",
       "      <th>4</th>\n",
       "      <td>TVS</td>\n",
       "      <td>21036.65</td>\n",
       "    </tr>\n",
       "    <tr>\n",
       "      <th>5</th>\n",
       "      <td>Yamaha</td>\n",
       "      <td>13920.50</td>\n",
       "    </tr>\n",
       "    <tr>\n",
       "      <th>6</th>\n",
       "      <td>Suzuki</td>\n",
       "      <td>8594.00</td>\n",
       "    </tr>\n",
       "    <tr>\n",
       "      <th>7</th>\n",
       "      <td>CF Moto</td>\n",
       "      <td>0.00</td>\n",
       "    </tr>\n",
       "    <tr>\n",
       "      <th>8</th>\n",
       "      <td>Otro</td>\n",
       "      <td>934.06</td>\n",
       "    </tr>\n",
       "  </tbody>\n",
       "</table>\n",
       "</div>"
      ],
      "text/plain": [
       "     Marca       Cost\n",
       "0    Bajaj  279971.52\n",
       "1    Vento   59209.99\n",
       "2    Honda   29216.26\n",
       "3  Italika   21064.47\n",
       "4      TVS   21036.65\n",
       "5   Yamaha   13920.50\n",
       "6   Suzuki    8594.00\n",
       "7  CF Moto       0.00\n",
       "8     Otro     934.06"
      ]
     },
     "execution_count": 27,
     "metadata": {},
     "output_type": "execute_result"
    }
   ],
   "source": [
    "df_investment_per_brands = investment_analyzer.df_investment_per_brands"
   ]
  }
 ],
 "metadata": {
  "kernelspec": {
   "display_name": "venv",
   "language": "python",
   "name": "python3"
  },
  "language_info": {
   "codemirror_mode": {
    "name": "ipython",
    "version": 3
   },
   "file_extension": ".py",
   "mimetype": "text/x-python",
   "name": "python",
   "nbconvert_exporter": "python",
   "pygments_lexer": "ipython3",
   "version": "3.11.0"
  }
 },
 "nbformat": 4,
 "nbformat_minor": 2
}
