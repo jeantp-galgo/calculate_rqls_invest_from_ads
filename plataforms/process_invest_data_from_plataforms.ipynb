{
 "cells": [
  {
   "cell_type": "markdown",
   "metadata": {},
   "source": [
    "## Traer datos de amplitude\n",
    "\n",
    "\n",
    "Este archivo tiene como finalidad poder extraer datos desde amplitude y poder manejarlos y moldearlos a nuestra manera antes de poder aplicarle cálculos o cualquier otro tipo de cosa a la data"
   ]
  },
  {
   "cell_type": "code",
   "execution_count": 3,
   "metadata": {},
   "outputs": [],
   "source": [
    "import sys\n",
    "sys.path.append('../')\n",
    "from utils.extract_amplitude_data import start_session\n",
    "from utils.df_utils import fill_na_columns\n",
    "from utils.classify_ads import *\n",
    "import pandas as pd"
   ]
  },
  {
   "cell_type": "markdown",
   "metadata": {},
   "source": [
    "## Inversiones en Ads"
   ]
  },
  {
   "cell_type": "markdown",
   "metadata": {},
   "source": [
    "### Meta"
   ]
  },
  {
   "cell_type": "code",
   "execution_count": 4,
   "metadata": {},
   "outputs": [],
   "source": [
    "df_meta_ads = pd.read_csv(r\"C:\\Users\\JTRUJILLO\\Documents\\Galgo\\Scripts\\Análisis\\rql_inversiones\\BD Ads\\Abril\\MX BD Ads saturación mensual - Meta 08042025.csv\")"
   ]
  },
  {
   "cell_type": "markdown",
   "metadata": {},
   "source": [
    "Clasificación de la marca apartir del Ad name"
   ]
  },
  {
   "cell_type": "code",
   "execution_count": 5,
   "metadata": {},
   "outputs": [],
   "source": [
    "# Aplicar la función a la columna Ad name\n",
    "df_meta_ads['Marca'] = df_meta_ads['Ad name'].apply(classify_ads)"
   ]
  },
  {
   "cell_type": "markdown",
   "metadata": {},
   "source": [
    "Creación de las columnas de Semana y Año apartir de la Fecha"
   ]
  },
  {
   "cell_type": "code",
   "execution_count": 6,
   "metadata": {},
   "outputs": [],
   "source": [
    "# Convertir la columna 'Date' a datetime\n",
    "df_meta_ads['Date'] = pd.to_datetime(df_meta_ads['Date'])\n",
    "\n",
    "# Agregar columna con el número de semana (donde lunes es el primer día de la semana)\n",
    "df_meta_ads['Semana'] = df_meta_ads['Date'].dt.isocalendar().week\n",
    "\n",
    "# Agregar columna con el año\n",
    "df_meta_ads['Año'] = df_meta_ads['Date'].dt.year"
   ]
  },
  {
   "cell_type": "markdown",
   "metadata": {},
   "source": [
    "### Google Ads"
   ]
  },
  {
   "cell_type": "code",
   "execution_count": 7,
   "metadata": {},
   "outputs": [],
   "source": [
    "df_google_ads = pd.read_csv(r\"C:\\Users\\JTRUJILLO\\Documents\\Galgo\\Scripts\\Análisis\\rql_inversiones\\BD Ads\\Abril\\MX BD Ads saturación mensual - GAds 08042025.csv\")"
   ]
  },
  {
   "cell_type": "code",
   "execution_count": 8,
   "metadata": {},
   "outputs": [],
   "source": [
    "# Aplicar la función a la columna Ad name\n",
    "df_google_ads['Marca'] = df_google_ads['Ad group name'].apply(classify_ads)"
   ]
  },
  {
   "cell_type": "code",
   "execution_count": 9,
   "metadata": {},
   "outputs": [],
   "source": [
    "# Convertir la columna 'Date' a datetime\n",
    "df_google_ads['Date'] = pd.to_datetime(df_google_ads['Date'])\n",
    "\n",
    "# Agregar columna con el número de semana (donde lunes es el primer día de la semana)\n",
    "df_google_ads['Semana'] = df_google_ads['Date'].dt.isocalendar().week\n",
    "\n",
    "# Agregar columna con el año\n",
    "df_google_ads['Año'] = df_google_ads['Date'].dt.year"
   ]
  },
  {
   "cell_type": "markdown",
   "metadata": {},
   "source": [
    "## Exportaciones"
   ]
  },
  {
   "cell_type": "code",
   "execution_count": 10,
   "metadata": {},
   "outputs": [],
   "source": [
    "import os\n",
    "from datetime import datetime\n",
    "\n",
    "# Crear las carpetas necesarias\n",
    "fecha_actual = datetime.now().strftime(\"%d%m%Y\")\n",
    "mes_actual = datetime.now().strftime(\"%B\")\n",
    "ruta_carpeta = os.path.join(\"./outputs/\", mes_actual, fecha_actual)\n",
    "\n",
    "os.makedirs(ruta_carpeta, exist_ok=True)"
   ]
  },
  {
   "cell_type": "code",
   "execution_count": 11,
   "metadata": {},
   "outputs": [],
   "source": [
    "df_meta_ads.to_csv(os.path.join(ruta_carpeta, \"df_meta_ads.csv\"), index=False)"
   ]
  },
  {
   "cell_type": "code",
   "execution_count": 12,
   "metadata": {},
   "outputs": [],
   "source": [
    "df_google_ads.to_csv(os.path.join(ruta_carpeta, \"df_google_ads.csv\"), index=False)"
   ]
  },
  {
   "cell_type": "code",
   "execution_count": null,
   "metadata": {},
   "outputs": [],
   "source": []
  },
  {
   "cell_type": "code",
   "execution_count": null,
   "metadata": {},
   "outputs": [],
   "source": []
  },
  {
   "cell_type": "code",
   "execution_count": null,
   "metadata": {},
   "outputs": [],
   "source": []
  },
  {
   "cell_type": "code",
   "execution_count": null,
   "metadata": {},
   "outputs": [],
   "source": []
  },
  {
   "cell_type": "code",
   "execution_count": null,
   "metadata": {},
   "outputs": [],
   "source": []
  },
  {
   "cell_type": "code",
   "execution_count": 23,
   "metadata": {},
   "outputs": [],
   "source": [
    "# import os\n",
    "# from datetime import datetime\n",
    "# fecha_actual = datetime.now().strftime(\"%d%m%Y\")\n",
    "# # Crear la carpeta con el nombre de la fecha actual si no existe\n",
    "# carpeta_fecha_actual = f\"../outputs/amplitude/{fecha_actual}\"\n",
    "\n",
    "# if not os.path.exists(carpeta_fecha_actual):\n",
    "#     os.makedirs(carpeta_fecha_actual)"
   ]
  },
  {
   "cell_type": "markdown",
   "metadata": {},
   "source": [
    "## RQLs and Deal Won combinados"
   ]
  },
  {
   "cell_type": "code",
   "execution_count": null,
   "metadata": {},
   "outputs": [
    {
     "ename": "NameError",
     "evalue": "name 'datos_total_rql_per_day' is not defined",
     "output_type": "error",
     "traceback": [
      "\u001b[31m---------------------------------------------------------------------------\u001b[39m",
      "\u001b[31mNameError\u001b[39m                                 Traceback (most recent call last)",
      "\u001b[36mCell\u001b[39m\u001b[36m \u001b[39m\u001b[32mIn[24]\u001b[39m\u001b[32m, line 1\u001b[39m\n\u001b[32m----> \u001b[39m\u001b[32m1\u001b[39m \u001b[43mdatos_total_rql_per_day\u001b[49m.to_csv(\u001b[33mf\u001b[39m\u001b[33m\"\u001b[39m\u001b[38;5;132;01m{\u001b[39;00mcarpeta_fecha_actual\u001b[38;5;132;01m}\u001b[39;00m\u001b[33m/\u001b[39m\u001b[38;5;132;01m{\u001b[39;00mfecha_actual\u001b[38;5;132;01m}\u001b[39;00m\u001b[33m_data_rql_per_day.csv\u001b[39m\u001b[33m\"\u001b[39m, index=\u001b[38;5;28;01mFalse\u001b[39;00m)\n",
      "\u001b[31mNameError\u001b[39m: name 'datos_total_rql_per_day' is not defined"
     ]
    }
   ],
   "source": [
    "# datos_total_rql_per_day.to_csv(f\"{carpeta_fecha_actual}/{fecha_actual}_data_rql_per_day.csv\", index=False)"
   ]
  },
  {
   "cell_type": "code",
   "execution_count": null,
   "metadata": {},
   "outputs": [],
   "source": []
  },
  {
   "cell_type": "code",
   "execution_count": null,
   "metadata": {},
   "outputs": [],
   "source": []
  }
 ],
 "metadata": {
  "kernelspec": {
   "display_name": "venv",
   "language": "python",
   "name": "python3"
  },
  "language_info": {
   "codemirror_mode": {
    "name": "ipython",
    "version": 3
   },
   "file_extension": ".py",
   "mimetype": "text/x-python",
   "name": "python",
   "nbconvert_exporter": "python",
   "pygments_lexer": "ipython3",
   "version": "3.11.0"
  }
 },
 "nbformat": 4,
 "nbformat_minor": 2
}
